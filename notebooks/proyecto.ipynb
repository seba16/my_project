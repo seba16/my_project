{
 "cells": [
  {
   "cell_type": "code",
   "execution_count": 10,
   "metadata": {},
   "outputs": [],
   "source": [
    "DATA_PATH = \"../data/retail_sales_dataset.csv\"\n",
    "import sys\n",
    "sys.path.append('../src')\n",
    "import pandas_helper"
   ]
  },
  {
   "cell_type": "code",
   "execution_count": null,
   "metadata": {},
   "outputs": [],
   "source": [
    "print(f\"Intentando leer archivo desde: {DATA_PATH}\")\n",
    "df = pandas_helper.read_csv_data(DATA_PATH)\n",
    "\n",
    "if df is None:\n",
    "    print(\"No se pudo leer el archivo\")"
   ]
  },
  {
   "cell_type": "code",
   "execution_count": 13,
   "metadata": {},
   "outputs": [],
   "source": [
    "df = pandas_helper.clean_data(df)\n",
    "if df is None:\n",
    "    print(\"Error al limpiar los datos\")\n",
    "\n",
    "df = pandas_helper.change_data_type(df, [\"customer_id\", \"gender\", \"product_category\"], \"string\")\n",
    "if df is None:\n",
    "    print(\"Error al cambiar el tipo de datos\")"
   ]
  },
  {
   "cell_type": "code",
   "execution_count": null,
   "metadata": {},
   "outputs": [],
   "source": [
    "total_sales = pandas_helper.total_sales_by_product_category(df)\n",
    "if total_sales is not None:\n",
    "    print(\"Total de ventas por categoría de producto:\")\n",
    "    print(total_sales)\n",
    "\n",
    "avg_sales = pandas_helper.average_sales_by_product_category_by_date(df)\n",
    "if avg_sales is not None:\n",
    "    print(\"Promedio de ventas por categoría y fecha:\")\n",
    "    print(avg_sales)\n",
    "\n",
    "group_sales = pandas_helper.group_sales_by_product_category(df)\n",
    "if group_sales is not None:\n",
    "    print(group_sales)\n",
    "    print(f\"Categoria mas vendida: {group_sales.idxmax()} con {group_sales.max()} ventas\")\n",
    "    print(f\"Categoria mas vendida: {group_sales.idxmin()} con {group_sales.min()} ventas\")\n",
    "\n",
    "custom_category = \"Electronics\"\n",
    "sales_by_category = pandas_helper.get_sales_by_category(df, custom_category)\n",
    "if sales_by_category is not None:\n",
    "    print(f\"Ventas por categoría: {custom_category} con {sales_by_category} ventas\")\n"
   ]
  }
 ],
 "metadata": {
  "kernelspec": {
   "display_name": "venv",
   "language": "python",
   "name": "python3"
  },
  "language_info": {
   "codemirror_mode": {
    "name": "ipython",
    "version": 3
   },
   "file_extension": ".py",
   "mimetype": "text/x-python",
   "name": "python",
   "nbconvert_exporter": "python",
   "pygments_lexer": "ipython3",
   "version": "3.11.12"
  }
 },
 "nbformat": 4,
 "nbformat_minor": 2
}
